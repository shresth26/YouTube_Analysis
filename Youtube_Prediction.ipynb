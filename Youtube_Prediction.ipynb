{
  "nbformat": 4,
  "nbformat_minor": 0,
  "metadata": {
    "colab": {
      "name": "Youtube_Prediction.ipynb",
      "provenance": [],
      "collapsed_sections": []
    },
    "kernelspec": {
      "name": "python3",
      "display_name": "Python 3"
    }
  },
  "cells": [
    {
      "cell_type": "code",
      "metadata": {
        "id": "QJ5ywvA6Cia_",
        "outputId": "3e29be79-2f09-4a71-d412-37f5b2659d74",
        "colab": {
          "base_uri": "https://localhost:8080/",
          "height": 34
        }
      },
      "source": [
        "from google.colab import drive\n",
        "drive.mount('/content/drive')"
      ],
      "execution_count": 12,
      "outputs": [
        {
          "output_type": "stream",
          "text": [
            "Drive already mounted at /content/drive; to attempt to forcibly remount, call drive.mount(\"/content/drive\", force_remount=True).\n"
          ],
          "name": "stdout"
        }
      ]
    },
    {
      "cell_type": "code",
      "metadata": {
        "id": "eFMcN00oCx3L"
      },
      "source": [
        "import pandas as pd\n",
        "import numpy as np\n",
        "import matplotlib.pyplot as plt\n",
        "import seaborn as sns"
      ],
      "execution_count": 13,
      "outputs": []
    },
    {
      "cell_type": "code",
      "metadata": {
        "id": "nCv_BQ45LP3s",
        "outputId": "ea086c7c-ec4f-43ef-e38f-9006336b2462",
        "colab": {
          "base_uri": "https://localhost:8080/",
          "height": 514
        }
      },
      "source": [
        "train = pd.read_csv(\"/content/drive/My Drive/hacklive2_train.csv\", encoding=\"utf-8\")\n",
        "test = pd.read_csv(\"/content/drive/My Drive/hacklive2_test.csv\", encoding=\"utf-8\")\n",
        "submission = pd.read_csv(\"/content/drive/My Drive/hacklive2_submission.csv\", encoding=\"utf-8\")\n",
        "train.head()"
      ],
      "execution_count": 14,
      "outputs": [
        {
          "output_type": "execute_result",
          "data": {
            "text/html": [
              "<div>\n",
              "<style scoped>\n",
              "    .dataframe tbody tr th:only-of-type {\n",
              "        vertical-align: middle;\n",
              "    }\n",
              "\n",
              "    .dataframe tbody tr th {\n",
              "        vertical-align: top;\n",
              "    }\n",
              "\n",
              "    .dataframe thead th {\n",
              "        text-align: right;\n",
              "    }\n",
              "</style>\n",
              "<table border=\"1\" class=\"dataframe\">\n",
              "  <thead>\n",
              "    <tr style=\"text-align: right;\">\n",
              "      <th></th>\n",
              "      <th>video_id</th>\n",
              "      <th>title</th>\n",
              "      <th>channel_title</th>\n",
              "      <th>category_id</th>\n",
              "      <th>publish_date</th>\n",
              "      <th>tags</th>\n",
              "      <th>views</th>\n",
              "      <th>dislikes</th>\n",
              "      <th>comment_count</th>\n",
              "      <th>description</th>\n",
              "      <th>country_code</th>\n",
              "      <th>likes</th>\n",
              "    </tr>\n",
              "  </thead>\n",
              "  <tbody>\n",
              "    <tr>\n",
              "      <th>0</th>\n",
              "      <td>53364</td>\n",
              "      <td>Alif Allah Aur Insaan Episode 34 HUM TV Drama ...</td>\n",
              "      <td>HUM TV</td>\n",
              "      <td>24.0</td>\n",
              "      <td>2017-12-12</td>\n",
              "      <td>HUM|\"TV\"|\"Alif Allah Aur Insaan\"|\"Episode 34\"|...</td>\n",
              "      <td>351430.0</td>\n",
              "      <td>298.0</td>\n",
              "      <td>900.0</td>\n",
              "      <td>Alif Allah Aur Insaan Episode 34 Full - 12 Dec...</td>\n",
              "      <td>CA</td>\n",
              "      <td>2351.0</td>\n",
              "    </tr>\n",
              "    <tr>\n",
              "      <th>1</th>\n",
              "      <td>51040</td>\n",
              "      <td>It's Showtime Miss Q &amp; A: Bela gets jealous of...</td>\n",
              "      <td>ABS-CBN Entertainment</td>\n",
              "      <td>24.0</td>\n",
              "      <td>2018-03-08</td>\n",
              "      <td>ABS-CBN Entertainment|\"ABS-CBN\"|\"ABS-CBN Onlin...</td>\n",
              "      <td>461508.0</td>\n",
              "      <td>74.0</td>\n",
              "      <td>314.0</td>\n",
              "      <td>Vice Ganda notices Bela Padilla's sudden chang...</td>\n",
              "      <td>CA</td>\n",
              "      <td>3264.0</td>\n",
              "    </tr>\n",
              "    <tr>\n",
              "      <th>2</th>\n",
              "      <td>1856</td>\n",
              "      <td>ದರ್ಶನ್ ಗೆ ಬಾರಿ ಅವಮಾನ ಮಾಡಿದ ಶಿವಣ್ಣ ನಾಯಕಿ \\n  ಕ್...</td>\n",
              "      <td>SANDALWOOD REVIEWS</td>\n",
              "      <td>24.0</td>\n",
              "      <td>2018-03-26</td>\n",
              "      <td>challenging star darshan latest news|\"challeng...</td>\n",
              "      <td>40205.0</td>\n",
              "      <td>150.0</td>\n",
              "      <td>100.0</td>\n",
              "      <td>ದರ್ಶನ್ ಗೆ ಬಾರಿ ಅವಮಾನ ಮಾಡಿದ ಶಿವಣ್ಣ ನಾಯಕಿ    ಕ್ಲ...</td>\n",
              "      <td>IN</td>\n",
              "      <td>580.0</td>\n",
              "    </tr>\n",
              "    <tr>\n",
              "      <th>3</th>\n",
              "      <td>22618</td>\n",
              "      <td>Havana - swing cover | dodie feat. FLASHBACK</td>\n",
              "      <td>doddleoddle</td>\n",
              "      <td>10.0</td>\n",
              "      <td>2018-02-21</td>\n",
              "      <td>havana|\"cover\"|\"a capella\"|\"swing\"|\"dodie\"|\"fl...</td>\n",
              "      <td>509726.0</td>\n",
              "      <td>847.0</td>\n",
              "      <td>4536.0</td>\n",
              "      <td>Hi hi hi! here's our vid on FLASHBACK's channe...</td>\n",
              "      <td>GB</td>\n",
              "      <td>82773.0</td>\n",
              "    </tr>\n",
              "    <tr>\n",
              "      <th>4</th>\n",
              "      <td>74074</td>\n",
              "      <td>MUMMY NE NI KEHTA - 2  FT. 102 NOT OUT| DUDE S...</td>\n",
              "      <td>Dude Seriously</td>\n",
              "      <td>23.0</td>\n",
              "      <td>2018-05-10</td>\n",
              "      <td>dude|\"seriously\"|\"friends\"|\"fun\"|\"gujarati\"|\"h...</td>\n",
              "      <td>74311.0</td>\n",
              "      <td>69.0</td>\n",
              "      <td>161.0</td>\n",
              "      <td>BOOK YOUR TICKETS HERE:  https://goo.gl/QxdSyg...</td>\n",
              "      <td>IN</td>\n",
              "      <td>3557.0</td>\n",
              "    </tr>\n",
              "  </tbody>\n",
              "</table>\n",
              "</div>"
            ],
            "text/plain": [
              "   video_id  ...    likes\n",
              "0     53364  ...   2351.0\n",
              "1     51040  ...   3264.0\n",
              "2      1856  ...    580.0\n",
              "3     22618  ...  82773.0\n",
              "4     74074  ...   3557.0\n",
              "\n",
              "[5 rows x 12 columns]"
            ]
          },
          "metadata": {
            "tags": []
          },
          "execution_count": 14
        }
      ]
    },
    {
      "cell_type": "code",
      "metadata": {
        "id": "vdSFWDHvC6FS"
      },
      "source": [
        "ID_COL, TARGET_COL = 'video_id', 'likes'\n",
        "num_cols = ['views','dislikes','comment_count']\n",
        "cat_cols = ['category_id', 'country_code', 'channel_title']"
      ],
      "execution_count": 15,
      "outputs": []
    },
    {
      "cell_type": "code",
      "metadata": {
        "id": "SASnj863DDwR"
      },
      "source": [
        "from sklearn.metrics import mean_squared_error, mean_squared_log_error\n",
        "\n",
        "def rmsle(y_true, y_pred):\n",
        "  return np.sqrt(mean_squared_log_error(y_true, y_pred))\n",
        "\n",
        "def av_metric(y_true, y_pred):\n",
        "  return 1000 * np.sqrt(mean_squared_error(y_true, y_pred))"
      ],
      "execution_count": 16,
      "outputs": []
    },
    {
      "cell_type": "code",
      "metadata": {
        "id": "vB3Qg5-3C_cL"
      },
      "source": [
        "def combine_df(train, test):\n",
        "  df = pd.concat([train, test], axis=0).reset_index(drop=True)\n",
        "  features = [x for x in df.columns if x not in [ID_COL, TARGET_COL]]\n",
        "  df[num_cols + ['likes']] = df[num_cols + ['likes']].apply(lambda x : np.log1p(x))\n",
        "\n",
        "  return df, features\n",
        "\n",
        "def split_df_and_get_features(df, train_nrows):\n",
        "\n",
        "  train, test = df[:train_nrows].reset_index(drop = True), df[train_nrows:].reset_index(drop = True)\n",
        "  features = [c for c in train.columns if c not in [ID_COL, TARGET_COL]]\n",
        "  \n",
        "  return train, test, features"
      ],
      "execution_count": 17,
      "outputs": []
    },
    {
      "cell_type": "code",
      "metadata": {
        "id": "gbQyz_iIDFJ1"
      },
      "source": [
        "def download_preds(preds_test, file_name = 'hacklive_sub.csv'):\n",
        "  submission[TARGET_COL] = preds_test\n",
        "  submission.to_csv(file_name, index = False)\n",
        "\n",
        "  from google.colab import files\n",
        "  files.download(file_name)"
      ],
      "execution_count": 18,
      "outputs": []
    },
    {
      "cell_type": "code",
      "metadata": {
        "id": "SdnLWFcnDKus"
      },
      "source": [
        "from sklearn.model_selection import StratifiedKFold\n",
        "def run_gradient_boosting(clf, fit_params, train, test, features):\n",
        "  N_SPLITS = 5\n",
        "  oofs = np.zeros(len(train_pro))\n",
        "  preds = np.zeros((len(test_pro)))\n",
        "\n",
        "  target = train[TARGET_COL]\n",
        "\n",
        "  folds = StratifiedKFold(n_splits = N_SPLITS)\n",
        "  stratified_target = pd.qcut(train[TARGET_COL], 10, labels = False, duplicates='drop')\n",
        "\n",
        "  feature_importances = pd.DataFrame()\n",
        "\n",
        "  for fold_, (trn_idx, val_idx) in enumerate(folds.split(train, stratified_target)):\n",
        "    print(f'\\n------------- Fold {fold_ + 1} -------------')\n",
        "\n",
        "    X_trn, y_trn = train[features].iloc[trn_idx], target.iloc[trn_idx]\n",
        "\n",
        "    X_val, y_val = train[features].iloc[val_idx], target.iloc[val_idx]\n",
        "\n",
        "    X_test = test[features]\n",
        "    \n",
        "    _ = clf.fit(X_trn, y_trn, eval_set = [(X_val, y_val)], **fit_params)\n",
        "\n",
        "    fold_importance = pd.DataFrame({'fold': fold_ + 1, 'feature': features, 'importance': clf.feature_importances_})\n",
        "    feature_importances = pd.concat([feature_importances, fold_importance], axis=0)\n",
        "\n",
        "    preds_val = clf.predict(X_val)\n",
        "    preds_test = clf.predict(X_test)\n",
        "\n",
        "    fold_score = av_metric(y_val, preds_val)\n",
        "    print(f'\\nAV metric score for validation set is {fold_score}')\n",
        "\n",
        "    oofs[val_idx] = preds_val\n",
        "    preds += preds_test / N_SPLITS\n",
        "\n",
        "\n",
        "  oofs_score = av_metric(target, oofs)\n",
        "  print(f'\\n\\nAV metric for oofs is {oofs_score}')\n",
        "\n",
        "  feature_importances = feature_importances.reset_index(drop = True)\n",
        "  fi = feature_importances.groupby('feature')['importance'].mean().sort_values(ascending = False)[:25][::-1]\n",
        "  fi.plot(kind = 'barh', figsize=(12, 6))\n",
        "\n",
        "  return oofs, preds, fi"
      ],
      "execution_count": 19,
      "outputs": []
    },
    {
      "cell_type": "code",
      "metadata": {
        "id": "F3AG9qBGDgv7"
      },
      "source": [
        "df, features = combine_df(train,test)"
      ],
      "execution_count": 20,
      "outputs": []
    },
    {
      "cell_type": "code",
      "metadata": {
        "id": "B59YHNG3DhCG"
      },
      "source": [
        "from sklearn.preprocessing import LabelEncoder\n",
        "le = LabelEncoder()\n",
        "df[cat_cols] = df[cat_cols].apply(lambda x: le.fit_transform(x))"
      ],
      "execution_count": 21,
      "outputs": []
    },
    {
      "cell_type": "markdown",
      "metadata": {
        "id": "yMbl0v0HDqyt"
      },
      "source": [
        "# Feature Engineering\n"
      ]
    },
    {
      "cell_type": "code",
      "metadata": {
        "id": "DiSuDt2rDqRy"
      },
      "source": [
        "df['publish_date'] = pd.to_datetime(df['publish_date'],format = \"%Y-%m-%d\")\n",
        "df['first_video'] = (df['publish_date'] - df['publish_date'].min()).dt.days\n",
        "\n",
        "df['day_of_week'] = df['publish_date'].dt.dayofweek\n",
        "df['month_of_publish'] = df['publish_date'].dt.month\n",
        "df['year_of_publish'] = df['publish_date'].dt.year\n",
        "\n",
        "df['channel_title_num_videos'] = df['channel_title'].map(df['channel_title'].value_counts())\n",
        "df['publish_date_num_videos'] = df['publish_date'].map(df['publish_date'].value_counts())\n",
        "df['category_counts'] = df['category_id'].map(df['category_id'].value_counts())\n",
        "df['channel_in_n_countries'] = df.groupby('channel_title')['country_code'].transform('nunique')"
      ],
      "execution_count": 24,
      "outputs": []
    },
    {
      "cell_type": "code",
      "metadata": {
        "id": "ONYOEeZ0DwaZ"
      },
      "source": [
        "df['channel_title_mean_views'] = df.groupby('channel_title')['views'].transform('mean')\n",
        "df['channel_title_max_views'] = df.groupby('channel_title')['views'].transform('max')\n",
        "df['channel_title_min_views'] = df.groupby('channel_title')['views'].transform('min')\n",
        "df['channel_title_median_views'] = df.groupby('channel_title')['views'].transform('median')\n",
        "df['channel_title_total_views'] = df.groupby('channel_title')['views'].transform('sum')\n",
        "\n",
        "df['channel_title_mean_comments'] = df.groupby('channel_title')['comment_count'].transform('mean')\n",
        "df['channel_title_max_comments'] = df.groupby('channel_title')['comment_count'].transform('max')\n",
        "df['channel_title_min_comments'] = df.groupby('channel_title')['comment_count'].transform('min')\n",
        "df['channel_title_median_comments'] = df.groupby('channel_title')['comment_count'].transform('median')\n",
        "df['channel_title_total_comments'] = df.groupby('channel_title')['comment_count'].transform('sum')\n",
        "\n",
        "df['channel_title_mean_dislikes'] = df.groupby('channel_title')['dislikes'].transform('mean')\n",
        "df['channel_title_max_dislikes'] = df.groupby('channel_title')['dislikes'].transform('max')\n",
        "df['channel_title_min_dislikes'] = df.groupby('channel_title')['dislikes'].transform('min')\n",
        "df['channel_title_median_dislikes'] = df.groupby('channel_title')['dislikes'].transform('median')\n",
        "df['channel_title_total_dislikes'] = df.groupby('channel_title')['dislikes'].transform('sum')"
      ],
      "execution_count": 25,
      "outputs": []
    },
    {
      "cell_type": "code",
      "metadata": {
        "id": "2umJ5OimD4_J"
      },
      "source": [
        "df['title_length'] = df['title'].apply(lambda x : len(x))\n",
        "df['tag_length'] = df['tags'].apply(lambda x : len(x))\n",
        "df['description_length'] = df['description'].apply(lambda x : len(x))"
      ],
      "execution_count": 26,
      "outputs": []
    },
    {
      "cell_type": "code",
      "metadata": {
        "id": "6kR7P9p1Gsqx"
      },
      "source": [
        "df['total_views_per_month'] = df.groupby('month_of_publish')['views'].transform('sum')\n",
        "df['mean_views_per_month'] = df.groupby('month_of_publish')['views'].transform('mean') \n",
        "\n",
        "df['total_comments_per_month'] = df.groupby('month_of_publish')['comment_count'].transform('sum')\n",
        "df['mean_comments_per_month'] = df.groupby('month_of_publish')['comment_count'].transform('mean') \n",
        "\n",
        "df['total_dislikes_per_month'] = df.groupby('month_of_publish')['dislikes'].transform('sum')\n",
        "df['mean_dislikes_per_month'] = df.groupby('month_of_publish')['dislikes'].transform('mean') \n",
        "\n",
        "df['total_views_per_weekday'] = df.groupby('day_of_week')['views'].transform('sum')\n",
        "df['mean_views_per_weekday'] = df.groupby('day_of_week')['views'].transform('mean') \n",
        "\n",
        "df['total_comments_per_weekday'] = df.groupby('day_of_week')['comment_count'].transform('sum')\n",
        "df['mean_comments_per_weekday'] = df.groupby('day_of_week')['comment_count'].transform('mean') \n",
        "\n",
        "df['total_dislikes_per_weekday'] = df.groupby('day_of_week')['dislikes'].transform('sum')\n",
        "df['mean_dislikes_per_weekday'] = df.groupby('day_of_week')['dislikes'].transform('mean') "
      ],
      "execution_count": 30,
      "outputs": []
    },
    {
      "cell_type": "code",
      "metadata": {
        "id": "WGD8SdgaGvDB"
      },
      "source": [
        "df['total_views_per_category'] = df.groupby('category_id')['views'].transform('sum')\n",
        "df['mean_views_per_category'] = df.groupby('category_id')['views'].transform('mean')\n",
        "\n",
        "df['total_comments_per_category'] = df.groupby('category_id')['comment_count'].transform('sum')\n",
        "df['mean_comments_per_category'] = df.groupby('category_id')['comment_count'].transform('mean')\n",
        "\n",
        "df['total_dislikes_per_category'] = df.groupby('category_id')['dislikes'].transform('sum')\n",
        "df['mean_dislikes_per_category'] = df.groupby('category_id')['dislikes'].transform('mean')"
      ],
      "execution_count": 31,
      "outputs": []
    },
    {
      "cell_type": "code",
      "metadata": {
        "id": "PiPUqY38D_vJ"
      },
      "source": [
        "from sklearn.feature_extraction.text import CountVectorizer\n",
        "TOP_N_WORDS = 50\n",
        "\n",
        "vec = CountVectorizer(max_features = TOP_N_WORDS)\n",
        "txt_to_fts = vec.fit_transform(df['description']).toarray()\n",
        "\n",
        "c = 'description'\n",
        "txt_fts_desc = [c + f'_word_{i}_count' for i in range(TOP_N_WORDS)]\n",
        "df[txt_fts_desc] = txt_to_fts"
      ],
      "execution_count": 27,
      "outputs": []
    },
    {
      "cell_type": "code",
      "metadata": {
        "id": "7n52ggTfFlMm"
      },
      "source": [
        "txt_to_fts = vec.fit_transform(df['title']).toarray()\n",
        "c = 'title'\n",
        "txt_fts_title = [c + f'_word_{i}_count' for i in range(TOP_N_WORDS)]\n",
        "df[txt_fts_title] = txt_to_fts"
      ],
      "execution_count": 28,
      "outputs": []
    },
    {
      "cell_type": "code",
      "metadata": {
        "id": "yPnIWoLVGgrF"
      },
      "source": [
        "txt_to_fts = vec.fit_transform(df['tags']).toarray()\n",
        "c = 'tags'\n",
        "txt_fts_tags = [c + f'_word_{i}_count' for i in range(TOP_N_WORDS)]\n",
        "df[txt_fts_tags] = txt_to_fts"
      ],
      "execution_count": 29,
      "outputs": []
    },
    {
      "cell_type": "code",
      "metadata": {
        "id": "IUradwJTGoYT"
      },
      "source": [
        "train_pro, test_pro, features = split_df_and_get_features(df, train.shape[0])\n",
        "features = [c for c in df.columns if c not in [ID_COL, TARGET_COL]]\n",
        "cat_num_cols = [c for c in features if c not in ['title', 'tags', 'description', 'publish_date']]"
      ],
      "execution_count": 32,
      "outputs": []
    },
    {
      "cell_type": "code",
      "metadata": {
        "id": "GphEwBrGG3l1",
        "outputId": "0eec1ed6-6748-4a90-9ea4-1765a87d9559",
        "colab": {
          "base_uri": "https://localhost:8080/",
          "height": 1000
        }
      },
      "source": [
        "from lightgbm import LGBMRegressor\n",
        "clf = LGBMRegressor(\n",
        " n_estimators = 5000,\n",
        " colsample_bytree = 0.65,\n",
        " bagging_fraction = 0.91,\n",
        " bagging_freq = 3,\n",
        " learning_rate = 0.05,\n",
        " max_depth = 16,\n",
        " min_data_in_leaf = 10,\n",
        " num_leaves = 80,\n",
        " reg_alpha = 0.76,\n",
        " reg_lambda = 0.85,\n",
        " metric = 'None',)\n",
        "fit_params = {'verbose': 300, 'early_stopping_rounds': 200, 'eval_metric': 'rmse'}\n",
        "\n",
        "lgb_oofs, lgb_preds, fi = run_gradient_boosting(clf, fit_params, train_pro, test_pro, cat_num_cols)"
      ],
      "execution_count": 33,
      "outputs": [
        {
          "output_type": "stream",
          "text": [
            "\n",
            "------------- Fold 1 -------------\n",
            "Training until validation scores don't improve for 200 rounds.\n",
            "[300]\tvalid_0's rmse: 0.491963\n",
            "[600]\tvalid_0's rmse: 0.478629\n",
            "[900]\tvalid_0's rmse: 0.474605\n",
            "[1200]\tvalid_0's rmse: 0.472494\n",
            "[1500]\tvalid_0's rmse: 0.471631\n",
            "[1800]\tvalid_0's rmse: 0.471025\n",
            "[2100]\tvalid_0's rmse: 0.470514\n",
            "[2400]\tvalid_0's rmse: 0.470228\n",
            "[2700]\tvalid_0's rmse: 0.470126\n",
            "[3000]\tvalid_0's rmse: 0.469962\n",
            "[3300]\tvalid_0's rmse: 0.469911\n",
            "[3600]\tvalid_0's rmse: 0.469885\n",
            "Early stopping, best iteration is:\n",
            "[3469]\tvalid_0's rmse: 0.469843\n",
            "\n",
            "AV metric score for validation set is 469.8427975803013\n",
            "\n",
            "------------- Fold 2 -------------\n",
            "Training until validation scores don't improve for 200 rounds.\n",
            "[300]\tvalid_0's rmse: 0.483862\n",
            "[600]\tvalid_0's rmse: 0.470914\n",
            "[900]\tvalid_0's rmse: 0.466999\n",
            "[1200]\tvalid_0's rmse: 0.464954\n",
            "[1500]\tvalid_0's rmse: 0.463963\n",
            "[1800]\tvalid_0's rmse: 0.463337\n",
            "[2100]\tvalid_0's rmse: 0.463272\n",
            "[2400]\tvalid_0's rmse: 0.462934\n",
            "[2700]\tvalid_0's rmse: 0.462873\n",
            "Early stopping, best iteration is:\n",
            "[2581]\tvalid_0's rmse: 0.462839\n",
            "\n",
            "AV metric score for validation set is 462.8388424121272\n",
            "\n",
            "------------- Fold 3 -------------\n",
            "Training until validation scores don't improve for 200 rounds.\n",
            "[300]\tvalid_0's rmse: 0.480265\n",
            "[600]\tvalid_0's rmse: 0.467829\n",
            "[900]\tvalid_0's rmse: 0.464167\n",
            "[1200]\tvalid_0's rmse: 0.462721\n",
            "[1500]\tvalid_0's rmse: 0.462079\n",
            "[1800]\tvalid_0's rmse: 0.461676\n",
            "[2100]\tvalid_0's rmse: 0.461462\n",
            "[2400]\tvalid_0's rmse: 0.461337\n",
            "Early stopping, best iteration is:\n",
            "[2422]\tvalid_0's rmse: 0.4613\n",
            "\n",
            "AV metric score for validation set is 461.29995640453933\n",
            "\n",
            "------------- Fold 4 -------------\n",
            "Training until validation scores don't improve for 200 rounds.\n",
            "[300]\tvalid_0's rmse: 0.473958\n",
            "[600]\tvalid_0's rmse: 0.46214\n",
            "[900]\tvalid_0's rmse: 0.457495\n",
            "[1200]\tvalid_0's rmse: 0.456181\n",
            "[1500]\tvalid_0's rmse: 0.455173\n",
            "[1800]\tvalid_0's rmse: 0.454799\n",
            "[2100]\tvalid_0's rmse: 0.454773\n",
            "Early stopping, best iteration is:\n",
            "[1972]\tvalid_0's rmse: 0.454711\n",
            "\n",
            "AV metric score for validation set is 454.71080913869264\n",
            "\n",
            "------------- Fold 5 -------------\n",
            "Training until validation scores don't improve for 200 rounds.\n",
            "[300]\tvalid_0's rmse: 0.483356\n",
            "[600]\tvalid_0's rmse: 0.471503\n",
            "[900]\tvalid_0's rmse: 0.466858\n",
            "[1200]\tvalid_0's rmse: 0.464855\n",
            "[1500]\tvalid_0's rmse: 0.464008\n",
            "[1800]\tvalid_0's rmse: 0.463602\n",
            "[2100]\tvalid_0's rmse: 0.463494\n",
            "[2400]\tvalid_0's rmse: 0.463202\n",
            "Early stopping, best iteration is:\n",
            "[2487]\tvalid_0's rmse: 0.46315\n",
            "\n",
            "AV metric score for validation set is 463.14952848142224\n",
            "\n",
            "\n",
            "AV metric for oofs is 462.39386593781063\n"
          ],
          "name": "stdout"
        },
        {
          "output_type": "display_data",
          "data": {
            "image/png": "[encoded data removed]",
            "text/plain": [
              "<Figure size 864x432 with 1 Axes>"
            ]
          },
          "metadata": {
            "tags": [],
            "needs_background": "light"
          }
        }
      ]
    },
    {
      "cell_type": "code",
      "metadata": {
        "id": "OqwlBaqDHHqE",
        "outputId": "20e98afe-c469-4f24-ea67-9dc1f1db6493",
        "colab": {
          "base_uri": "https://localhost:8080/",
          "height": 17
        }
      },
      "source": [
        "lgb_preds_t = np.expm1(lgb_preds)\n",
        "download_preds(lgb_preds_t, file_name = 'finalmodel.csv')"
      ],
      "execution_count": 34,
      "outputs": [
        {
          "output_type": "display_data",
          "data": {
            "application/javascript": [
              "\n",
              "    async function download(id, filename, size) {\n",
              "      if (!google.colab.kernel.accessAllowed) {\n",
              "        return;\n",
              "      }\n",
              "      const div = document.createElement('div');\n",
              "      const label = document.createElement('label');\n",
              "      label.textContent = `Downloading \"${filename}\": `;\n",
              "      div.appendChild(label);\n",
              "      const progress = document.createElement('progress');\n",
              "      progress.max = size;\n",
              "      div.appendChild(progress);\n",
              "      document.body.appendChild(div);\n",
              "\n",
              "      const buffers = [];\n",
              "      let downloaded = 0;\n",
              "\n",
              "      const channel = await google.colab.kernel.comms.open(id);\n",
              "      // Send a message to notify the kernel that we're ready.\n",
              "      channel.send({})\n",
              "\n",
              "      for await (const message of channel.messages) {\n",
              "        // Send a message to notify the kernel that we're ready.\n",
              "        channel.send({})\n",
              "        if (message.buffers) {\n",
              "          for (const buffer of message.buffers) {\n",
              "            buffers.push(buffer);\n",
              "            downloaded += buffer.byteLength;\n",
              "            progress.value = downloaded;\n",
              "          }\n",
              "        }\n",
              "      }\n",
              "      const blob = new Blob(buffers, {type: 'application/binary'});\n",
              "      const a = document.createElement('a');\n",
              "      a.href = window.URL.createObjectURL(blob);\n",
              "      a.download = filename;\n",
              "      div.appendChild(a);\n",
              "      a.click();\n",
              "      div.remove();\n",
              "    }\n",
              "  "
            ],
            "text/plain": [
              "<IPython.core.display.Javascript object>"
            ]
          },
          "metadata": {
            "tags": []
          }
        },
        {
          "output_type": "display_data",
          "data": {
            "application/javascript": [
              "download(\"download_15588db1-a368-49e9-8d73-91c9a59f498c\", \"finalmodel.csv\", 270848)"
            ],
            "text/plain": [
              "<IPython.core.display.Javascript object>"
            ]
          },
          "metadata": {
            "tags": []
          }
        }
      ]
    }
  ]
}